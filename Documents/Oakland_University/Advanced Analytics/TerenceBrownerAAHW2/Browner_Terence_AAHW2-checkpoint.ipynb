{
 "cells": [
  {
   "cell_type": "code",
   "execution_count": 6,
   "id": "67476006",
   "metadata": {},
   "outputs": [],
   "source": [
    "class SingleProductSPF:\n",
    "    def __init__(self, fixed_cost=5000, variable_cost=100, selling_price=115, spf_constant=4900, spf_linear=-35, spf_quadratic=0.06):\n",
    "        self.fixed_cost = fixed_cost\n",
    "        self.variable_cost = variable_cost\n",
    "        self.selling_price = selling_price\n",
    "        self.spf_constant = spf_constant\n",
    "        self.spf_linear = spf_linear\n",
    "        self.spf_quadratic = spf_quadratic\n",
    "\n",
    "    def demand(self, selling_price):\n",
    "        return self.spf_quadratic * selling_price ** 2 + self.spf_linear * selling_price + self.spf_constant\n",
    "\n",
    "    def profit(self, selling_price):\n",
    "        demand = self.demand(selling_price)\n",
    "        revenue = selling_price * demand\n",
    "        total_cost = self.fixed_cost + self.variable_cost * demand\n",
    "        return revenue - total_cost\n",
    "    \n",
    "    \n"
   ]
  },
  {
   "cell_type": "code",
   "execution_count": 5,
   "id": "5ea054ab",
   "metadata": {},
   "outputs": [
    {
     "name": "stdout",
     "output_type": "stream",
     "text": [
      "Demand: 1668.5\n",
      "Profit: 20027.5\n"
     ]
    }
   ],
   "source": [
    "#Create an instance of SingleProductSPF\n",
    "product = SingleProductSPF()\n",
    "\n",
    "# Set the selling price\n",
    "selling_price = 115\n",
    "\n",
    "# Calculate the demand\n",
    "demand = product.demand(selling_price)\n",
    "\n",
    "# Calculate the profit\n",
    "profit = product.profit(selling_price)\n",
    "\n",
    "# Print the demand and profit\n",
    "print(\"Demand:\", demand)\n",
    "print(\"Profit:\", profit)"
   ]
  },
  {
   "cell_type": "code",
   "execution_count": 10,
   "id": "413d9a35",
   "metadata": {},
   "outputs": [
    {
     "ename": "ImportError",
     "evalue": "cannot import name 'model' from 'whatif' (C:\\Users\\User\\Downloads\\downloads_whatif_oomodeling\\downloads_whatif_oomodeling\\whatif.py)",
     "output_type": "error",
     "traceback": [
      "\u001b[1;31m---------------------------------------------------------------------------\u001b[0m",
      "\u001b[1;31mImportError\u001b[0m                               Traceback (most recent call last)",
      "Cell \u001b[1;32mIn[10], line 1\u001b[0m\n\u001b[1;32m----> 1\u001b[0m \u001b[38;5;28;01mfrom\u001b[39;00m \u001b[38;5;21;01mwhatif\u001b[39;00m \u001b[38;5;28;01mimport\u001b[39;00m model\n\u001b[0;32m      2\u001b[0m \u001b[38;5;28;01mfrom\u001b[39;00m \u001b[38;5;21;01mwhatif\u001b[39;00m \u001b[38;5;28;01mimport\u001b[39;00m get_sim_results_df\n",
      "\u001b[1;31mImportError\u001b[0m: cannot import name 'model' from 'whatif' (C:\\Users\\User\\Downloads\\downloads_whatif_oomodeling\\downloads_whatif_oomodeling\\whatif.py)"
     ]
    }
   ],
   "source": [
    "from whatif import model\n",
    "from whatif import get_sim_results_df"
   ]
  },
  {
   "cell_type": "code",
   "execution_count": null,
   "id": "274c912c",
   "metadata": {},
   "outputs": [],
   "source": []
  }
 ],
 "metadata": {
  "kernelspec": {
   "display_name": "Python [conda env:aap]",
   "language": "python",
   "name": "conda-env-aap-py"
  },
  "language_info": {
   "codemirror_mode": {
    "name": "ipython",
    "version": 3
   },
   "file_extension": ".py",
   "mimetype": "text/x-python",
   "name": "python",
   "nbconvert_exporter": "python",
   "pygments_lexer": "ipython3",
   "version": "3.11.3"
  }
 },
 "nbformat": 4,
 "nbformat_minor": 5
}
